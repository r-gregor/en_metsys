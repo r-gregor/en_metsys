{
 "cells": [
  {
   "cell_type": "code",
   "execution_count": 22,
   "metadata": {},
   "outputs": [],
   "source": [
    "def rate(MS, timem):\n",
    "    rate = (MS * 1024 * 8) / (timem * 60)\n",
    "    print((\"Movie size: {} GB\\n\" +\n",
    "           \"Dration:    {} min.\\n\" +\n",
    "           \"Rate:       {:.3f} Mbit/s\\n\").format(MS, timem, rate))\n"
   ]
  },
  {
   "cell_type": "code",
   "execution_count": 23,
   "metadata": {},
   "outputs": [
    {
     "name": "stdout",
     "output_type": "stream",
     "text": [
      "Movie size: 6 GB\n",
      "Dration:    60 min.\n",
      "Rate:       13.653 Mbit/s\n",
      "\n"
     ]
    }
   ],
   "source": [
    "rate(6, 60)"
   ]
  },
  {
   "cell_type": "code",
   "execution_count": 33,
   "metadata": {},
   "outputs": [],
   "source": [
    "def rate(MS, timem):\n",
    "    rate = (MS * 1024 * 8) / (timem * 60)\n",
    "    line = (\"Movie size: {} GB\\n\" +\n",
    "            \"Dration:    {} min.\\n\" +\n",
    "            \"Rate:       {:.2f} Mbit/s\\n\").format(MS, timem, rate)\n",
    "    print(line)"
   ]
  },
  {
   "cell_type": "code",
   "execution_count": 34,
   "metadata": {},
   "outputs": [
    {
     "name": "stdout",
     "output_type": "stream",
     "text": [
      "Movie size: 6 GB\n",
      "Dration:    60 min.\n",
      "Rate:       13.65 Mbit/s\n",
      "\n"
     ]
    }
   ],
   "source": [
    "rate(6, 60)"
   ]
  },
  {
   "cell_type": "raw",
   "metadata": {},
   "source": []
  },
  {
   "cell_type": "code",
   "execution_count": null,
   "metadata": {},
   "outputs": [],
   "source": []
  }
 ],
 "metadata": {
  "kernelspec": {
   "display_name": "Python 3",
   "language": "python",
   "name": "python3"
  },
  "language_info": {
   "codemirror_mode": {
    "name": "ipython",
    "version": 3
   },
   "file_extension": ".py",
   "mimetype": "text/x-python",
   "name": "python",
   "nbconvert_exporter": "python",
   "pygments_lexer": "ipython3",
   "version": "3.6.4"
  }
 },
 "nbformat": 4,
 "nbformat_minor": 2
}
