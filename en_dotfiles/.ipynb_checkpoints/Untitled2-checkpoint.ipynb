{
 "cells": [
  {
   "cell_type": "code",
   "execution_count": 1,
   "metadata": {},
   "outputs": [],
   "source": [
    "import os"
   ]
  },
  {
   "cell_type": "code",
   "execution_count": 2,
   "metadata": {},
   "outputs": [],
   "source": [
    "dirlist = os.listdir(\".\")"
   ]
  },
  {
   "cell_type": "code",
   "execution_count": 3,
   "metadata": {},
   "outputs": [
    {
     "name": "stdout",
     "output_type": "stream",
     "text": [
      "['.alseg', '.bashrc', '.bashrc.ORIGINAL', '.bash_history', '.bash_profile', '.black_white_bashrc', '.cache', '.cdargsresult', '.cheat', '.config', '.dircolorsrc', '.gnupg', '.inputrc', '.ipynb_checkpoints', '.ipython', '.irssi', '.joe_state', '.jupyter', '.lesshst', '.local', '.matplotlib', '.minttyrc', '.mytmuxconf', '.profile', '.profile~', '.python_history', '.screen-lyt-0', '.screen-lyt-1', '.screen-lyt-2', '.screen-lyt-3', '.screenrc', '.subversion', '.tmp', '.tmux_1_conf', '.tmux_2_conf', '.tmux_3_conf', '.toprc', '.urxvt', '.vim', '.viminfo', '.vimrc', '.w3m', '.wget-hsts', '.Xdefaults', '0a_povezave', 'BRISI', 'C_GREDELONGHI', 'docs', 'DOLPOTEGI', 'dot_tmux_3_conf_bkp_20190828', 'DoubleGraph.png', 'DOWNLOADS', 'DROPBOX', 'forallusers', 'G_REDELONGHI', 'JAVA_en_testing', 'jptrs', 'logging', 'majfajls', 'majprogs', 'MCDNG', 'METSYS-en', 'mplayer', 'ORIGINALI_20180907', 'PRENOSI', 'PYTHON_en_testing', 'RUT', 'seznami', 'sorsi', 'T2', 'tests_20190904.ipynb', 'UKAZI', 'Untitled.ipynb', 'Untitled1.ipynb', 'Untitled2.ipynb', '__pycache__']\n"
     ]
    }
   ],
   "source": [
    "print(dirlist)"
   ]
  },
  {
   "cell_type": "code",
   "execution_count": 7,
   "metadata": {},
   "outputs": [],
   "source": [
    "pttn = \"tmux\"\n",
    "newp = \"screen\""
   ]
  },
  {
   "cell_type": "code",
   "execution_count": 5,
   "metadata": {},
   "outputs": [
    {
     "name": "stdout",
     "output_type": "stream",
     "text": [
      ".mytmuxconf\n",
      ".tmux_1_conf\n",
      ".tmux_2_conf\n",
      ".tmux_3_conf\n",
      "dot_tmux_3_conf_bkp_20190828\n"
     ]
    }
   ],
   "source": [
    "for EL in dirlist:\n",
    "    if pttn in EL:\n",
    "        print(EL)\n"
   ]
  },
  {
   "cell_type": "code",
   "execution_count": 8,
   "metadata": {},
   "outputs": [
    {
     "name": "stdout",
     "output_type": "stream",
     "text": [
      ".myscreenconf\n",
      ".screen_1_conf\n",
      ".screen_2_conf\n",
      ".screen_3_conf\n",
      "dot_screen_3_conf_bkp_20190828\n"
     ]
    }
   ],
   "source": [
    "for EL in dirlist:\n",
    "    if pttn in EL:\n",
    "        print(EL.replace(pttn, newp))"
   ]
  },
  {
   "cell_type": "code",
   "execution_count": 9,
   "metadata": {},
   "outputs": [
    {
     "name": "stdout",
     "output_type": "stream",
     "text": [
      "Renaming .mytmuxconf to .myscreenconf\n",
      "Renaming .tmux_1_conf to .screen_1_conf\n",
      "Renaming .tmux_2_conf to .screen_2_conf\n",
      "Renaming .tmux_3_conf to .screen_3_conf\n",
      "Renaming dot_tmux_3_conf_bkp_20190828 to dot_screen_3_conf_bkp_20190828\n"
     ]
    }
   ],
   "source": [
    "for EL in dirlist:\n",
    "    if pttn in EL:\n",
    "        print(\"Renaming {} to {}\".format(EL, EL.replace(pttn, newp)))"
   ]
  },
  {
   "cell_type": "code",
   "execution_count": null,
   "metadata": {},
   "outputs": [],
   "source": []
  }
 ],
 "metadata": {
  "kernelspec": {
   "display_name": "Python 3",
   "language": "python",
   "name": "python3"
  },
  "language_info": {
   "codemirror_mode": {
    "name": "ipython",
    "version": 3
   },
   "file_extension": ".py",
   "mimetype": "text/x-python",
   "name": "python",
   "nbconvert_exporter": "python",
   "pygments_lexer": "ipython3",
   "version": "3.6.4"
  }
 },
 "nbformat": 4,
 "nbformat_minor": 2
}
