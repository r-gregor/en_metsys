{
 "cells": [
  {
   "cell_type": "code",
   "execution_count": 1,
   "metadata": {},
   "outputs": [],
   "source": [
    "import os"
   ]
  },
  {
   "cell_type": "code",
   "execution_count": 2,
   "metadata": {},
   "outputs": [],
   "source": [
    "dirlist = os.listdir(\".\")"
   ]
  },
  {
   "cell_type": "code",
   "execution_count": 10,
   "metadata": {},
   "outputs": [
    {
     "name": "stdout",
     "output_type": "stream",
     "text": [
      "['.alseg', '.bashrc', '.bashrc.ORIGINAL', '.bash_history', '.bash_profile', '.black_white_bashrc', '.cache', '.cdargsresult', '.cheat', '.config', '.dircolorsrc', '.gnupg', '.inputrc', '.ipynb_checkpoints', '.ipython', '.irssi', '.joe_state', '.jupyter', '.lesshst', '.local', '.matplotlib', '.minttyrc', '.mytmuxconf', '.profile', '.profile~', '.python_history', '.screen-lyt-0', '.screen-lyt-1', '.screen-lyt-2', '.screen-lyt-3', '.screenrc', '.subversion', '.tmp', '.tmux_1_conf', '.tmux_2_conf', '.tmux_3_conf', '.toprc', '.urxvt', '.vim', '.viminfo', '.vimrc', '.w3m', '.wget-hsts', '.Xdefaults', '0a_povezave', 'BRISI', 'C_GREDELONGHI', 'docs', 'DOLPOTEGI', 'dot_tmux_3_conf_bkp_20190828', 'DoubleGraph.png', 'DOWNLOADS', 'DROPBOX', 'forallusers', 'G_REDELONGHI', 'JAVA_en_testing', 'jptrs', 'logging', 'majfajls', 'majprogs', 'MCDNG', 'METSYS-en', 'mplayer', 'ORIGINALI_20180907', 'PRENOSI', 'PYTHON_en_testing', 'RUT', 'seznami', 'sorsi', 'T2', 'tests_20190904.ipynb', 'UKAZI', 'Untitled.ipynb', 'Untitled1.ipynb', 'Untitled2.ipynb', '__pycache__']\n"
     ]
    }
   ],
   "source": [
    "print(dirlist)"
   ]
  },
  {
   "cell_type": "code",
   "execution_count": 11,
   "metadata": {},
   "outputs": [],
   "source": [
    "pttn = \"tmux\"\n",
    "newp = \"screen\""
   ]
  },
  {
   "cell_type": "code",
   "execution_count": 12,
   "metadata": {},
   "outputs": [
    {
     "name": "stdout",
     "output_type": "stream",
     "text": [
      ".mytmuxconf\n",
      ".tmux_1_conf\n",
      ".tmux_2_conf\n",
      ".tmux_3_conf\n",
      "dot_tmux_3_conf_bkp_20190828\n"
     ]
    }
   ],
   "source": [
    "for EL in dirlist:\n",
    "    if pttn in EL:\n",
    "        print(EL)\n"
   ]
  },
  {
   "cell_type": "code",
   "execution_count": 13,
   "metadata": {},
   "outputs": [
    {
     "name": "stdout",
     "output_type": "stream",
     "text": [
      ".myscreenconf\n",
      ".screen_1_conf\n",
      ".screen_2_conf\n",
      ".screen_3_conf\n",
      "dot_screen_3_conf_bkp_20190828\n"
     ]
    }
   ],
   "source": [
    "for EL in dirlist:\n",
    "    if pttn in EL:\n",
    "        print(EL.replace(pttn, newp))"
   ]
  },
  {
   "cell_type": "code",
   "execution_count": 14,
   "metadata": {},
   "outputs": [
    {
     "name": "stdout",
     "output_type": "stream",
     "text": [
      "Renaming .mytmuxconf to .myscreenconf\n",
      "Renaming .tmux_1_conf to .screen_1_conf\n",
      "Renaming .tmux_2_conf to .screen_2_conf\n",
      "Renaming .tmux_3_conf to .screen_3_conf\n",
      "Renaming dot_tmux_3_conf_bkp_20190828 to dot_screen_3_conf_bkp_20190828\n"
     ]
    }
   ],
   "source": [
    "for EL in dirlist:\n",
    "    if pttn in EL:\n",
    "        print(\"Renaming {} to {}\".format(EL, EL.replace(pttn, newp)))"
   ]
  },
  {
   "cell_type": "code",
   "execution_count": 58,
   "metadata": {},
   "outputs": [],
   "source": [
    "class Person:\n",
    "    def __init__(self, name):\n",
    "        self.name = name\n",
    "        self.lname = \"Redelonghi\"\n",
    "    \n",
    "    def getInfo(self):\n",
    "        print(\"This is an object of {}.\".format(self.name))\n"
   ]
  },
  {
   "cell_type": "code",
   "execution_count": 59,
   "metadata": {},
   "outputs": [],
   "source": [
    "g = Person(\"Gregor\")"
   ]
  },
  {
   "cell_type": "code",
   "execution_count": 60,
   "metadata": {},
   "outputs": [
    {
     "name": "stdout",
     "output_type": "stream",
     "text": [
      "This is an object of Gregor.\n"
     ]
    }
   ],
   "source": [
    "g.getInfo()"
   ]
  },
  {
   "cell_type": "code",
   "execution_count": 61,
   "metadata": {},
   "outputs": [
    {
     "data": {
      "text/plain": [
       "['__class__',\n",
       " '__delattr__',\n",
       " '__dict__',\n",
       " '__dir__',\n",
       " '__doc__',\n",
       " '__eq__',\n",
       " '__format__',\n",
       " '__ge__',\n",
       " '__getattribute__',\n",
       " '__gt__',\n",
       " '__hash__',\n",
       " '__init__',\n",
       " '__init_subclass__',\n",
       " '__le__',\n",
       " '__lt__',\n",
       " '__module__',\n",
       " '__ne__',\n",
       " '__new__',\n",
       " '__reduce__',\n",
       " '__reduce_ex__',\n",
       " '__repr__',\n",
       " '__setattr__',\n",
       " '__sizeof__',\n",
       " '__str__',\n",
       " '__subclasshook__',\n",
       " '__weakref__',\n",
       " 'getInfo',\n",
       " 'lname',\n",
       " 'name']"
      ]
     },
     "execution_count": 61,
     "metadata": {},
     "output_type": "execute_result"
    }
   ],
   "source": [
    "dir(g)"
   ]
  },
  {
   "cell_type": "code",
   "execution_count": 62,
   "metadata": {},
   "outputs": [
    {
     "name": "stdout",
     "output_type": "stream",
     "text": [
      "Gregor Redelonghi\n"
     ]
    }
   ],
   "source": [
    "print(g.name, end=\" \")\n",
    "print(g.lname)"
   ]
  },
  {
   "cell_type": "code",
   "execution_count": null,
   "metadata": {},
   "outputs": [],
   "source": [
    "# INHERITANCE TEST:"
   ]
  },
  {
   "cell_type": "code",
   "execution_count": 161,
   "metadata": {},
   "outputs": [],
   "source": [
    "# BASE = PARENT CLASS\n",
    "class Family:\n",
    "    def __init__(self):\n",
    "        self.lname = \"Redelonghi\"\n",
    "        self.addr  = \"Valvasorjeva ulica 5, 1000 Ljubljana\"\n",
    "    "
   ]
  },
  {
   "cell_type": "code",
   "execution_count": 170,
   "metadata": {},
   "outputs": [],
   "source": [
    "# SIBLING CLASS\n",
    "class Fmember(Family):\n",
    "    def __init__(self, name, phone):\n",
    "        \n",
    "        # initialize super (parent)\n",
    "        super(Fmember, self).__init__()\n",
    "        \n",
    "        self.name = name\n",
    "        self.phone = phone\n",
    "    \n",
    "        if self.name == \"Tadeja\":\n",
    "            self.lname = \"Mali Redelonghi\"\n",
    "    \n",
    "    def getName(self):\n",
    "        return self.name\n",
    "    \n",
    "    def getLname(self):\n",
    "        return self.lname\n",
    "    \n",
    "    def getAddr(self):\n",
    "        return self.addr\n",
    "    \n",
    "    def getPhone(self):\n",
    "        return self.phone\n",
    "    "
   ]
  },
  {
   "cell_type": "code",
   "execution_count": 171,
   "metadata": {},
   "outputs": [],
   "source": [
    "gr = Fmember(\"Gregor\", \"+386 40885560\")\n",
    "zr = Fmember(\"Zala\", \"+386 41445505\")\n",
    "td = Fmember(\"Tadeja\", \"+376 410623097\")"
   ]
  },
  {
   "cell_type": "code",
   "execution_count": 184,
   "metadata": {},
   "outputs": [],
   "source": [
    "def dispMems(mem):\n",
    "    print(\"{0}\\n{1}\\n{2}\\n{3}\\n\".format(mem.getName(),\n",
    "                                       mem.getLname(),\n",
    "                                       mem.getPhone(),\n",
    "                                       mem.getAddr()\n",
    "                                       )\n",
    "    )"
   ]
  },
  {
   "cell_type": "code",
   "execution_count": 183,
   "metadata": {},
   "outputs": [
    {
     "name": "stdout",
     "output_type": "stream",
     "text": [
      "Gregor\n",
      "Redelonghi\n",
      "+386 40885560\n",
      "Valvasorjeva ulica 5, 1000 Ljubljana\n",
      "\n",
      "Zala\n",
      "Redelonghi\n",
      "+386 41445505\n",
      "Valvasorjeva ulica 5, 1000 Ljubljana\n",
      "\n",
      "Tadeja\n",
      "Mali Redelonghi\n",
      "+376 410623097\n",
      "Valvasorjeva ulica 5, 1000 Ljubljana\n",
      "\n"
     ]
    }
   ],
   "source": [
    "for m in [gr, zr, td]:\n",
    "    dispMems(m)"
   ]
  },
  {
   "cell_type": "code",
   "execution_count": null,
   "metadata": {},
   "outputs": [],
   "source": []
  },
  {
   "cell_type": "code",
   "execution_count": null,
   "metadata": {},
   "outputs": [],
   "source": []
  }
 ],
 "metadata": {
  "kernelspec": {
   "display_name": "Python 3",
   "language": "python",
   "name": "python3"
  },
  "language_info": {
   "codemirror_mode": {
    "name": "ipython",
    "version": 3
   },
   "file_extension": ".py",
   "mimetype": "text/x-python",
   "name": "python",
   "nbconvert_exporter": "python",
   "pygments_lexer": "ipython3",
   "version": "3.6.4"
  }
 },
 "nbformat": 4,
 "nbformat_minor": 2
}
