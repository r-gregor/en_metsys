{
 "cells": [
  {
   "cell_type": "code",
   "execution_count": null,
   "metadata": {},
   "outputs": [],
   "source": [
    "# freom: https://www.dataquest.io/blog/python-api-tutorial/"
   ]
  },
  {
   "cell_type": "code",
   "execution_count": 4,
   "metadata": {},
   "outputs": [],
   "source": [
    "import requests"
   ]
  },
  {
   "cell_type": "code",
   "execution_count": 5,
   "metadata": {},
   "outputs": [],
   "source": [
    "response = requests.get(\"http://api.open-notify.org/this-api-doesnt-exist\")"
   ]
  },
  {
   "cell_type": "code",
   "execution_count": 6,
   "metadata": {},
   "outputs": [
    {
     "name": "stdout",
     "output_type": "stream",
     "text": [
      "404\n"
     ]
    }
   ],
   "source": [
    "print(response.status_code)"
   ]
  },
  {
   "cell_type": "code",
   "execution_count": 9,
   "metadata": {},
   "outputs": [
    {
     "name": "stdout",
     "output_type": "stream",
     "text": [
      "200\n"
     ]
    }
   ],
   "source": [
    "# Open Notify API - info about ISS\n",
    "# astros.json is the 1st \"endpoint\"\n",
    "response = requests.get(\"http://api.open-notify.org/astros.json\")\n",
    "print(response.status_code)"
   ]
  },
  {
   "cell_type": "code",
   "execution_count": 10,
   "metadata": {},
   "outputs": [
    {
     "name": "stdout",
     "output_type": "stream",
     "text": [
      "{'message': 'success', 'people': [{'name': 'Alexey Ovchinin', 'craft': 'ISS'}, {'name': 'Nick Hague', 'craft': 'ISS'}, {'name': 'Christina Koch', 'craft': 'ISS'}, {'name': 'Alexander Skvortsov', 'craft': 'ISS'}, {'name': 'Luca Parmitano', 'craft': 'ISS'}, {'name': 'Andrew Morgan', 'craft': 'ISS'}], 'number': 6}\n"
     ]
    }
   ],
   "source": [
    "print(response.json())"
   ]
  },
  {
   "cell_type": "code",
   "execution_count": 11,
   "metadata": {},
   "outputs": [
    {
     "name": "stdout",
     "output_type": "stream",
     "text": [
      "{\n",
      "    \"message\": \"success\",\n",
      "    \"number\": 6,\n",
      "    \"people\": [\n",
      "        {\n",
      "            \"craft\": \"ISS\",\n",
      "            \"name\": \"Alexey Ovchinin\"\n",
      "        },\n",
      "        {\n",
      "            \"craft\": \"ISS\",\n",
      "            \"name\": \"Nick Hague\"\n",
      "        },\n",
      "        {\n",
      "            \"craft\": \"ISS\",\n",
      "            \"name\": \"Christina Koch\"\n",
      "        },\n",
      "        {\n",
      "            \"craft\": \"ISS\",\n",
      "            \"name\": \"Alexander Skvortsov\"\n",
      "        },\n",
      "        {\n",
      "            \"craft\": \"ISS\",\n",
      "            \"name\": \"Luca Parmitano\"\n",
      "        },\n",
      "        {\n",
      "            \"craft\": \"ISS\",\n",
      "            \"name\": \"Andrew Morgan\"\n",
      "        }\n",
      "    ]\n",
      "}\n"
     ]
    }
   ],
   "source": [
    "import json\n",
    "\n",
    "def jprint(obj):\n",
    "    # create a formatted string of the Python JSON object\n",
    "    text = json.dumps(obj, sort_keys=True, indent=4)\n",
    "    print(text)\n",
    "\n",
    "jprint(response.json())\n"
   ]
  },
  {
   "cell_type": "code",
   "execution_count": 16,
   "metadata": {},
   "outputs": [],
   "source": [
    "# https://www.latlong.net/place/ljubljana-slovenia-9549.html\n",
    "# \n",
    "# Ljubljana, Slovenia Geographic Information\n",
    "# Country       Slovenia\n",
    "# Latitude      46.056946\n",
    "# Longitude     14.505751\n",
    "# DMS Lat       46° 3' 25.0056'' N\n",
    "# DMS Long      14° 30' 20.7036'' E\n",
    "# UTM Easting   461,768.45\n",
    "# UTM Northing  5,100,493.35\n",
    "# Category      Cities\n",
    "# Country Code  SI\n",
    "# Zoom Level    10"
   ]
  },
  {
   "cell_type": "code",
   "execution_count": null,
   "metadata": {},
   "outputs": [],
   "source": [
    "# ISS pass time endpoint:\n",
    "# http://open-notify.org/Open-Notify-API/ISS-Pass-Times/\n",
    "\n",
    "# acceptable range:\n",
    "# Latitude \tThe latitude of the place to predict passes \tlat \t-80..80 \tdegrees\n",
    "# Longitude \tThe longitude of the place to predict passes \tlon \t-180..180 \tdegrees\n",
    "\n",
    "# location in degrees only:\n",
    "# Latitude: 46° 3' 25.0056\" = 46° + 3'/60 + 25.0056\"/3600 = 46.05695°\n",
    "# Longitude: 14° 30' 20.7036\" = 14° + 30'/60 + 20.7036\"/3600 = 14.50575°\n"
   ]
  },
  {
   "cell_type": "code",
   "execution_count": 14,
   "metadata": {},
   "outputs": [],
   "source": [
    "parameters = {\n",
    "    \"lat\": 46.06,\n",
    "    \"lon\": 14.51\n",
    "}"
   ]
  },
  {
   "cell_type": "code",
   "execution_count": 15,
   "metadata": {},
   "outputs": [
    {
     "name": "stdout",
     "output_type": "stream",
     "text": [
      "{\n",
      "    \"message\": \"success\",\n",
      "    \"request\": {\n",
      "        \"altitude\": 100,\n",
      "        \"datetime\": 1568628369,\n",
      "        \"latitude\": 46.06,\n",
      "        \"longitude\": 14.51,\n",
      "        \"passes\": 5\n",
      "    },\n",
      "    \"response\": [\n",
      "        {\n",
      "            \"duration\": 68,\n",
      "            \"risetime\": 1568656341\n",
      "        },\n",
      "        {\n",
      "            \"duration\": 599,\n",
      "            \"risetime\": 1568661817\n",
      "        },\n",
      "        {\n",
      "            \"duration\": 648,\n",
      "            \"risetime\": 1568667582\n",
      "        },\n",
      "        {\n",
      "            \"duration\": 629,\n",
      "            \"risetime\": 1568673418\n",
      "        },\n",
      "        {\n",
      "            \"duration\": 641,\n",
      "            \"risetime\": 1568679247\n",
      "        }\n",
      "    ]\n",
      "}\n"
     ]
    }
   ],
   "source": [
    "response = requests.get(\"http://api.open-notify.org/iss-pass.json\", params=parameters)\n",
    "jprint(response.json())"
   ]
  },
  {
   "cell_type": "code",
   "execution_count": 20,
   "metadata": {},
   "outputs": [],
   "source": [
    "# extract just the risetime durations into a list"
   ]
  },
  {
   "cell_type": "code",
   "execution_count": 21,
   "metadata": {},
   "outputs": [
    {
     "name": "stdout",
     "output_type": "stream",
     "text": [
      "[\n",
      "    {\n",
      "        \"duration\": 68,\n",
      "        \"risetime\": 1568656341\n",
      "    },\n",
      "    {\n",
      "        \"duration\": 599,\n",
      "        \"risetime\": 1568661817\n",
      "    },\n",
      "    {\n",
      "        \"duration\": 648,\n",
      "        \"risetime\": 1568667582\n",
      "    },\n",
      "    {\n",
      "        \"duration\": 629,\n",
      "        \"risetime\": 1568673418\n",
      "    },\n",
      "    {\n",
      "        \"duration\": 641,\n",
      "        \"risetime\": 1568679247\n",
      "    }\n",
      "]\n"
     ]
    }
   ],
   "source": [
    "pass_times = response.json()['response']\n",
    "jprint(pass_times)"
   ]
  },
  {
   "cell_type": "code",
   "execution_count": 22,
   "metadata": {},
   "outputs": [
    {
     "name": "stdout",
     "output_type": "stream",
     "text": [
      "[1568656341, 1568661817, 1568667582, 1568673418, 1568679247]\n"
     ]
    }
   ],
   "source": [
    "risetimes = []\n",
    "\n",
    "for d in pass_times:\n",
    "    time = d['risetime']\n",
    "    risetimes.append(time)\n",
    "\n",
    "print(risetimes)"
   ]
  },
  {
   "cell_type": "code",
   "execution_count": 23,
   "metadata": {},
   "outputs": [
    {
     "name": "stdout",
     "output_type": "stream",
     "text": [
      "2019-09-16 19:52:21\n",
      "2019-09-16 21:23:37\n",
      "2019-09-16 22:59:42\n",
      "2019-09-17 00:36:58\n",
      "2019-09-17 02:14:07\n"
     ]
    }
   ],
   "source": [
    "# convert risetimes to date format:\n",
    "\n",
    "from datetime import datetime\n",
    "\n",
    "times = []\n",
    "\n",
    "for rt in risetimes:\n",
    "    time = datetime.fromtimestamp(rt)\n",
    "    times.append(time)\n",
    "    print(time)"
   ]
  },
  {
   "cell_type": "code",
   "execution_count": 24,
   "metadata": {},
   "outputs": [],
   "source": [
    "# List od public APIs:\n",
    "# https://github.com/public-apis/public-apis\n"
   ]
  },
  {
   "cell_type": "code",
   "execution_count": null,
   "metadata": {},
   "outputs": [],
   "source": []
  }
 ],
 "metadata": {
  "kernelspec": {
   "display_name": "Python 3",
   "language": "python",
   "name": "python3"
  },
  "language_info": {
   "codemirror_mode": {
    "name": "ipython",
    "version": 3
   },
   "file_extension": ".py",
   "mimetype": "text/x-python",
   "name": "python",
   "nbconvert_exporter": "python",
   "pygments_lexer": "ipython3",
   "version": "3.6.4"
  }
 },
 "nbformat": 4,
 "nbformat_minor": 2
}
