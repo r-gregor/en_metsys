{
 "cells": [
  {
   "cell_type": "code",
   "execution_count": 5,
   "metadata": {},
   "outputs": [
    {
     "name": "stdout",
     "output_type": "stream",
     "text": [
      "3...2...1...Go!\n"
     ]
    }
   ],
   "source": [
    "import time\n",
    "\n",
    "num_seconds = 3\n",
    "for countdown in reversed(range(num_seconds + 1)):\n",
    "    if countdown > 0:\n",
    "        print(countdown, end='...')\n",
    "        time.sleep(1)\n",
    "    else:\n",
    "        print('Go!')"
   ]
  },
  {
   "cell_type": "code",
   "execution_count": 7,
   "metadata": {},
   "outputs": [
    {
     "name": "stdout",
     "output_type": "stream",
     "text": [
      "3...2...1...Go!\n"
     ]
    }
   ],
   "source": [
    "import time\n",
    "\n",
    "num_seconds = 3\n",
    "for countdown in reversed(range(num_seconds + 1)):\n",
    "    if countdown > 0:\n",
    "        print(countdown, end='...', flush=True)\n",
    "        time.sleep(1)\n",
    "    else:\n",
    "        print('Go!')"
   ]
  },
  {
   "cell_type": "code",
   "execution_count": 17,
   "metadata": {},
   "outputs": [
    {
     "name": "stdout",
     "output_type": "stream",
     "text": [
      "Person(name='John Doe', age=42)\n"
     ]
    }
   ],
   "source": [
    "from collections import namedtuple\n",
    "Person = namedtuple('Person', 'name age')\n",
    "jdoe = Person('John Doe', 42)\n",
    "print(jdoe)"
   ]
  },
  {
   "cell_type": "code",
   "execution_count": 11,
   "metadata": {},
   "outputs": [],
   "source": [
    "class Person2:\n",
    "    def __init__(self, name, age):\n",
    "        self.name, self.age = name, age\n"
   ]
  },
  {
   "cell_type": "code",
   "execution_count": 19,
   "metadata": {},
   "outputs": [
    {
     "name": "stdout",
     "output_type": "stream",
     "text": [
      "<__main__.Person2 object at 0x6fffa109cc0>\n"
     ]
    }
   ],
   "source": [
    "jdoe2 = Person2('John Doe', 42)\n",
    "print(jdoe2)"
   ]
  },
  {
   "cell_type": "code",
   "execution_count": 22,
   "metadata": {},
   "outputs": [],
   "source": [
    "class User:\n",
    "    def __init__(self, login, password):\n",
    "        self.login = login\n",
    "        self.password = password\n",
    "        def __str__(self):\n",
    "            return self.login\n",
    "        def __repr__(self):\n",
    "            return f\"User('{self.login}', '{self.password}')\""
   ]
  },
  {
   "cell_type": "code",
   "execution_count": 24,
   "metadata": {},
   "outputs": [],
   "source": [
    "user = User('jdoe', 's3cret')"
   ]
  },
  {
   "cell_type": "code",
   "execution_count": 36,
   "metadata": {},
   "outputs": [
    {
     "name": "stdout",
     "output_type": "stream",
     "text": [
      "[<__main__.User object at 0x6fffa0adbe0>]\n"
     ]
    }
   ],
   "source": [
    "print([user])"
   ]
  },
  {
   "cell_type": "code",
   "execution_count": 37,
   "metadata": {},
   "outputs": [],
   "source": [
    "from pprint import pprint as pp"
   ]
  },
  {
   "cell_type": "code",
   "execution_count": 39,
   "metadata": {},
   "outputs": [],
   "source": [
    "data = {'powers': [x**10 for x in range(10)]}"
   ]
  },
  {
   "cell_type": "code",
   "execution_count": 40,
   "metadata": {},
   "outputs": [
    {
     "name": "stdout",
     "output_type": "stream",
     "text": [
      "{'powers': [0, 1, 1024, 59049, 1048576, 9765625, 60466176, 282475249, 1073741824, 3486784401]}\n"
     ]
    }
   ],
   "source": [
    "print(data)"
   ]
  },
  {
   "cell_type": "code",
   "execution_count": 41,
   "metadata": {},
   "outputs": [
    {
     "name": "stdout",
     "output_type": "stream",
     "text": [
      "{'powers': [0,\n",
      "            1,\n",
      "            1024,\n",
      "            59049,\n",
      "            1048576,\n",
      "            9765625,\n",
      "            60466176,\n",
      "            282475249,\n",
      "            1073741824,\n",
      "            3486784401]}\n"
     ]
    }
   ],
   "source": [
    "pp(data)"
   ]
  },
  {
   "cell_type": "code",
   "execution_count": 42,
   "metadata": {},
   "outputs": [
    {
     "data": {
      "text/plain": [
       "'[0, 1, 1024, 59049, 1048576, 9765625, ...]'"
      ]
     },
     "execution_count": 42,
     "metadata": {},
     "output_type": "execute_result"
    }
   ],
   "source": [
    "import reprlib\n",
    "reprlib.repr([x**10 for x in range(10)])"
   ]
  },
  {
   "cell_type": "code",
   "execution_count": 43,
   "metadata": {},
   "outputs": [],
   "source": [
    "snake = [(0, i) for i in reversed(range(20))]"
   ]
  },
  {
   "cell_type": "code",
   "execution_count": 44,
   "metadata": {},
   "outputs": [
    {
     "name": "stdout",
     "output_type": "stream",
     "text": [
      "[(0, 19), (0, 18), (0, 17), (0, 16), (0, 15), (0, 14), (0, 13), (0, 12), (0, 11), (0, 10), (0, 9), (0, 8), (0, 7), (0, 6), (0, 5), (0, 4), (0, 3), (0, 2), (0, 1), (0, 0)]\n"
     ]
    }
   ],
   "source": [
    "print(snake)"
   ]
  },
  {
   "cell_type": "code",
   "execution_count": 1,
   "metadata": {},
   "outputs": [
    {
     "name": "stdout",
     "output_type": "stream",
     "text": [
      "HH\n"
     ]
    }
   ],
   "source": [
    "print(\"HH\")\n"
   ]
  },
  {
   "cell_type": "code",
   "execution_count": null,
   "metadata": {},
   "outputs": [],
   "source": [
    "from itertools import cycle\n",
    "from time import sleep\n",
    "\n",
    "for frame in cycle(r'-\\|/-\\|/'):\n",
    "    print('\\r', frame, sep='', end='', flush=True)\n",
    "    sleep(0.2)"
   ]
  },
  {
   "cell_type": "code",
   "execution_count": null,
   "metadata": {},
   "outputs": [
    {
     "name": "stdout",
     "output_type": "stream",
     "text": [
      "/"
     ]
    }
   ],
   "source": [
    "from itertools import cycle\n",
    "import time\n",
    "\n",
    "B = cycle([\"-\", \"\\\\\", \"|\", \"/\", \"-\", \"\\\\\", \"|\", \"/\"])\n",
    "for el in B:\n",
    "    print('\\r', el, end='', sep='', flush = True)\n",
    "    time.sleep(0.1)"
   ]
  },
  {
   "cell_type": "code",
   "execution_count": null,
   "metadata": {},
   "outputs": [],
   "source": []
  }
 ],
 "metadata": {
  "kernelspec": {
   "display_name": "Python 3",
   "language": "python",
   "name": "python3"
  }
 },
 "nbformat": 4,
 "nbformat_minor": 2
}
